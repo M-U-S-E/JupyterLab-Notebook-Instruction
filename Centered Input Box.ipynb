{
 "cells": [
  {
   "cell_type": "markdown",
   "id": "67745b7b-32e3-4502-bbcc-97478771fbc1",
   "metadata": {
    "tags": []
   },
   "source": [
    "<style>\n",
    "  main {\n",
    "    width: 100%; height: 229px;\n",
    "    display: flex;\n",
    "    justify-content: center;\n",
    "    align-items: center;\n",
    "  }\n",
    "  ::-webkit-input-placeholder {\n",
    "    line-height: 1.375em;\n",
    "  }\n",
    "  input {\n",
    "    outline: none;\n",
    "    color: #666;\n",
    "    font-size: .9em;\n",
    "    padding: .5em;\n",
    "    border-radius: .2em;\n",
    "    border: 1px solid #e3e3e3;\n",
    "    -webkit-appearance: none;\n",
    "  }\n",
    "  input:hover {\n",
    "    border: 1px solid #b4a078;\n",
    "  }\n",
    "  input:focus {\n",
    "    border: 1px solid #b4a078;\n",
    "    box-shadow: 0 0 0 2px rgba(180, 160, 120, 0.2);\n",
    "  }\n",
    "</style>\n",
    "<template>\n",
    "  <main class=\"main\">\n",
    "    <input type=\"text\" placeholder=\"Is this input box centered?\">\n",
    "  </main>\n",
    "</template>\n",
    "<script>\n",
    "</script>"
   ]
  }
 ],
 "metadata": {
  "kernelspec": {
   "display_name": "Python 3 (ipykernel)",
   "language": "python",
   "name": "python3"
  },
  "language_info": {
   "codemirror_mode": {
    "name": "ipython",
    "version": 3
   },
   "file_extension": ".py",
   "mimetype": "text/x-python",
   "name": "python",
   "nbconvert_exporter": "python",
   "pygments_lexer": "ipython3",
   "version": "3.11.4"
  }
 },
 "nbformat": 4,
 "nbformat_minor": 5
}
