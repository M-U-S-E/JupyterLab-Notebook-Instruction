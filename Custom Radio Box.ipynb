{
 "cells": [
  {
   "cell_type": "markdown",
   "id": "0513b245-9c2b-460f-8054-76c4764b71a3",
   "metadata": {
    "tags": [],
    "toc-hr-collapsed": true
   },
   "source": [
    "<style>\n",
    "  main {\n",
    "    width: 289px; height: 289px;\n",
    "    margin: 80px auto;\n",
    "    font-size: 12px;\n",
    "  }\n",
    "  main svg {\n",
    "    overflow: visible;\n",
    "    animation: circular-text-rotate 5s linear paused infinite;\n",
    "  }\n",
    "  main svg:hover {\n",
    "    animation-play-state: running;\n",
    "  }\n",
    "  main path {\n",
    "    fill: none;\n",
    "  }\n",
    "  main text {\n",
    "    fill: #b4a078;\n",
    "  }\n",
    "  @keyframes circular-text-rotate {\n",
    "    to {\n",
    "      transform: rotate(1turn);\n",
    "    }\n",
    "  }\n",
    "</style>\n",
    "<template>\n",
    "  <main>\n",
    "    <svg viewBox=\"0 0 100 100\">\n",
    "      <path d=\"M 0,50 a 50,50 0 1,1 0,1 z\" id=\"circle\" />\n",
    "      <text>\n",
    "        <textPath xlink:href=\"#circle\">\n",
    "          You-need-to-know-css-tricks-You-need-to-know-css-tricks-You-\n",
    "        </textPath>\n",
    "      </text>\n",
    "    </svg>\n",
    "  </main>\n",
    "</template>\n",
    "<script>\n",
    "</script>"
   ]
  }
 ],
 "metadata": {
  "kernelspec": {
   "display_name": "Python 3 (ipykernel)",
   "language": "python",
   "name": "python3"
  },
  "language_info": {
   "codemirror_mode": {
    "name": "ipython",
    "version": 3
   },
   "file_extension": ".py",
   "mimetype": "text/x-python",
   "name": "python",
   "nbconvert_exporter": "python",
   "pygments_lexer": "ipython3",
   "version": "3.11.4"
  },
  "toc-autonumbering": false,
  "toc-showcode": false,
  "toc-showmarkdowntxt": false
 },
 "nbformat": 4,
 "nbformat_minor": 5
}
