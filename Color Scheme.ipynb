{
 "cells": [
  {
   "cell_type": "markdown",
   "id": "0513b245-9c2b-460f-8054-76c4764b71a3",
   "metadata": {
    "tags": [],
    "toc-hr-collapsed": true
   },
   "source": [
    "<center><div style=\"padding:10px; \n",
    "            color:#FFFFFF;\n",
    "            margin:10px;\n",
    "            font-size:150%;\n",
    "            display:fill;\n",
    "            border-style: solid;\n",
    "            border-color: #FFFFFF;\n",
    "            background-color:#ff6600;\n",
    "            overflow:hidden;\n",
    "            font-weight:500\">配色方案</div></center>"
   ]
  },
  {
   "cell_type": "markdown",
   "id": "ef7413b1-6ecf-43b9-93ad-adebf848a7f0",
   "metadata": {},
   "source": [
    "<div style=\"text-align: center;\">\n",
    "  <div>\n",
    "    <div style=\"display: inline-block;\">\n",
    "      <div style=\"width: 40px; height: 40px; background-color: rgb(48, 54, 148); border-radius: 50%; margin: 14px 45px 5px;\"></div>\n",
    "      <div style=\"text-align: center; font-size: 12px;\">#303694</div>\n",
    "      <div style=\"text-align: center; font-size: 12px;\">RGB(48, 54, 148)</div>\n",
    "    </div>\n",
    "    <div style=\"display: inline-block;\">\n",
    "      <div style=\"width: 40px; height: 40px; background-color: rgb(69, 116, 179); border-radius: 50%; margin: 14px 45px 5px;\"></div>\n",
    "      <div style=\"text-align: center; font-size: 12px;\">#4574B3</div>\n",
    "      <div style=\"text-align: center; font-size: 12px;\">RGB(69, 116, 179)</div>\n",
    "    </div>\n",
    "    <div style=\"display: inline-block;\">\n",
    "      <div style=\"width: 40px; height: 40px; background-color: rgb(116, 172, 209); border-radius: 50%; margin: 14px 45px 5px;\"></div>\n",
    "      <div style=\"text-align: center; font-size: 12px;\">#74ACD1</div>\n",
    "      <div style=\"text-align: center; font-size: 12px;\">RGB(116, 172, 209)</div>\n",
    "    </div>\n",
    "    <div style=\"display: inline-block;\">\n",
    "      <div style=\"width: 40px; height: 40px; background-color: rgb(170, 215, 233); border-radius: 50%; margin: 14px 45px 5px;\"></div>\n",
    "      <div style=\"text-align: center; font-size: 12px;\">#AAD7E9</div>\n",
    "      <div style=\"text-align: center; font-size: 12px;\">RGB(170, 215, 233)</div>\n",
    "    </div>\n",
    "    <div style=\"display: inline-block;\">\n",
    "      <div style=\"width: 40px; height: 40px; background-color: rgb(223, 243, 248); border-radius: 50%; margin: 14px 45px 5px;\"></div>\n",
    "      <div style=\"text-align: center; font-size: 12px;\">#DFF3F8</div>\n",
    "      <div style=\"text-align: center; font-size: 12px;\">RGB(223, 243, 248)</div>\n",
    "    </div>\n",
    "  </div>\n",
    "  <div>\n",
    "    <div style=\"display: inline-block;\">\n",
    "      <div style=\"width: 40px; height: 40px; background-color: rgb(255, 253, 189); border-radius: 50%; margin: 14px 45px 5px;\"></div>\n",
    "      <div style=\"text-align: center; font-size: 12px;\">#FFFDBD</div>\n",
    "      <div style=\"text-align: center; font-size: 12px;\">RGB(255, 253, 189)</div>\n",
    "    </div>\n",
    "    <div style=\"display: inline-block;\">\n",
    "      <div style=\"width: 40px; height: 40px; background-color: rgb(253, 223, 144); border-radius: 50%; margin: 14px 45px 5px;\"></div>\n",
    "      <div style=\"text-align: center; font-size: 12px;\">#FDDF90</div>\n",
    "      <div style=\"text-align: center; font-size: 12px;\">RGB(253, 223, 144)</div>\n",
    "    </div>\n",
    "    <div style=\"display: inline-block;\">\n",
    "      <div style=\"width: 40px; height: 40px; background-color: rgb(252, 172, 95); border-radius: 50%; margin: 14px 45px 5px;\"></div>\n",
    "      <div style=\"text-align: center; font-size: 12px;\">#FCAC5F</div>\n",
    "      <div style=\"text-align: center; font-size: 12px;\">RGB(252, 172, 95)</div>\n",
    "    </div>\n",
    "    <div style=\"display: inline-block;\">\n",
    "      <div style=\"width: 40px; height: 40px; background-color: rgb(244, 108, 67); border-radius: 50%; margin: 14px 45px 5px;\"></div>\n",
    "      <div style=\"text-align: center; font-size: 12px;\">#F46C43</div>\n",
    "      <div style=\"text-align: center; font-size: 12px;\">RGB(244, 108, 67)</div>\n",
    "    </div>\n",
    "    <div style=\"display: inline-block;\">\n",
    "      <div style=\"width: 40px; height: 40px; background-color: rgb(213, 46, 39); border-radius: 50%; margin: 14px 45px 5px;\"></div>\n",
    "      <div style=\"text-align: center; font-size: 12px;\">#D52E27</div>\n",
    "      <div style=\"text-align: center; font-size: 12px;\">RGB(213, 46, 39)</div>\n",
    "    </div>\n",
    "  </div>\n",
    "</div>"
   ]
  }
 ],
 "metadata": {
  "kernelspec": {
   "display_name": "Python 3 (ipykernel)",
   "language": "python",
   "name": "python3"
  },
  "language_info": {
   "codemirror_mode": {
    "name": "ipython",
    "version": 3
   },
   "file_extension": ".py",
   "mimetype": "text/x-python",
   "name": "python",
   "nbconvert_exporter": "python",
   "pygments_lexer": "ipython3",
   "version": "3.11.4"
  },
  "toc-autonumbering": false,
  "toc-showcode": false,
  "toc-showmarkdowntxt": false
 },
 "nbformat": 4,
 "nbformat_minor": 5
}
